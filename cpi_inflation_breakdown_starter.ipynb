{
 "cells": [
  {
   "cell_type": "markdown",
   "id": "865fc473",
   "metadata": {},
   "source": [
    "# 📊 U.S. Inflation Breakdown: What's Actually Driving It?\n",
    "This notebook visualizes how different components of the Consumer Price Index (CPI) have contributed to inflation in the U.S. over time.\n",
    "\n",
    "**Goal:** Simplify and illustrate economic trends using public data and clean visual storytelling.\n",
    "\n",
    "Built using Python, Pandas, and Plotly/Matplotlib."
   ]
  },
  {
   "cell_type": "code",
   "execution_count": null,
   "id": "6788ea0e",
   "metadata": {},
   "outputs": [],
   "source": [
    "# Step 1: Import libraries\n",
    "import pandas as pd\n",
    "import matplotlib.pyplot as plt\n",
    "import seaborn as sns\n",
    "# You can also use Plotly if preferred\n",
    "# import plotly.express as px"
   ]
  },
  {
   "cell_type": "code",
   "execution_count": null,
   "id": "ebecb2ff",
   "metadata": {},
   "outputs": [],
   "source": [
    "# Step 2: Load CPI data (CSV or API from BLS if available)\n",
    "# For simplicity, we'll load a pre-cleaned CSV file for now\n",
    "# Example: 'cpi_data.csv' with columns: ['Date', 'Food', 'Energy', 'Housing', 'Transportation', 'All_Items']\n",
    "df = pd.read_csv('cpi_data.csv')\n",
    "df['Date'] = pd.to_datetime(df['Date'])\n",
    "df.set_index('Date', inplace=True)\n",
    "df.tail()"
   ]
  },
  {
   "cell_type": "code",
   "execution_count": null,
   "id": "17acf014",
   "metadata": {},
   "outputs": [],
   "source": [
    "# Step 3: Plot category trends over time\n",
    "plt.figure(figsize=(12,6))\n",
    "for col in df.columns:\n",
    "    plt.plot(df.index, df[col], label=col)\n",
    "plt.title('CPI Categories Over Time')\n",
    "plt.ylabel('CPI Index (Base=100)')\n",
    "plt.xlabel('Year')\n",
    "plt.legend()\n",
    "plt.grid(True)\n",
    "plt.tight_layout()\n",
    "plt.show()"
   ]
  },
  {
   "cell_type": "code",
   "execution_count": null,
   "id": "a41debf6",
   "metadata": {},
   "outputs": [],
   "source": [
    "# Step 4: Calculate and plot YoY percent change\n",
    "df_yoy = df.pct_change(periods=12) * 100\n",
    "df_yoy.tail()"
   ]
  },
  {
   "cell_type": "code",
   "execution_count": null,
   "id": "0a3c1dcf",
   "metadata": {},
   "outputs": [],
   "source": [
    "# Step 5: Plot YoY change\n",
    "plt.figure(figsize=(12,6))\n",
    "for col in df_yoy.columns:\n",
    "    plt.plot(df_yoy.index, df_yoy[col], label=col)\n",
    "plt.title('Year-over-Year CPI Category Changes')\n",
    "plt.ylabel('% Change')\n",
    "plt.xlabel('Year')\n",
    "plt.legend()\n",
    "plt.grid(True)\n",
    "plt.tight_layout()\n",
    "plt.show()"
   ]
  },
  {
   "cell_type": "markdown",
   "id": "753e3b55",
   "metadata": {},
   "source": [
    "## 📌 Observations\n",
    "- Food prices spiked sharply in [year].\n",
    "- Energy prices tend to be more volatile.\n",
    "- Housing costs show long-term steady growth.\n",
    "\n",
    "You can update these insights after analyzing your data."
   ]
  },
  {
   "cell_type": "code",
   "execution_count": null,
   "id": "b7aa055e",
   "metadata": {},
   "outputs": [],
   "source": [
    "# Step 6: Save processed data or export visuals if needed\n",
    "# df.to_csv('processed_cpi_data.csv')"
   ]
  }
 ],
 "metadata": {
  "kernelspec": {
   "display_name": "Python 3 (ipykernel)",
   "language": "python",
   "name": "python3"
  },
  "language_info": {
   "codemirror_mode": {
    "name": "ipython",
    "version": 3
   },
   "file_extension": ".py",
   "mimetype": "text/x-python",
   "name": "python",
   "nbconvert_exporter": "python",
   "pygments_lexer": "ipython3",
   "version": "3.12.7"
  }
 },
 "nbformat": 4,
 "nbformat_minor": 5
}
