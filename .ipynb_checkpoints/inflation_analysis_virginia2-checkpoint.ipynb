{
 "cells": [
  {
   "cell_type": "markdown",
   "id": "dc10322a",
   "metadata": {},
   "source": [
    "# 📈 Inflation Analysis – Virginia\n",
    "**Objective**: Analyze Consumer Price Index (CPI) data from the BLS for key categories in Virginia using Python.\n",
    "We calculate 12-month YoY inflation, smooth trends with rolling averages, and prepare the data for Tableau."
   ]
  },
  {
   "cell_type": "markdown",
   "id": "ccf0e160",
   "metadata": {},
   "source": [
    "## 🔧 Import Libraries"
   ]
  },
  {
   "cell_type": "code",
   "execution_count": null,
   "id": "e33ab5ad",
   "metadata": {},
   "outputs": [],
   "source": [
    "import pandas as pd\n",
    "import matplotlib.pyplot as plt"
   ]
  },
  {
   "cell_type": "markdown",
   "id": "a2144d68",
   "metadata": {},
   "source": [
    "## 📥 Step 1: Load Cleaned CPI Data"
   ]
  },
  {
   "cell_type": "code",
   "execution_count": null,
   "id": "9fe31ee5",
   "metadata": {},
   "outputs": [],
   "source": [
    "def load_data(filepath):\n",
    "    df = pd.read_csv(filepath, parse_dates=['Date'])\n",
    "    return df"
   ]
  },
  {
   "cell_type": "markdown",
   "id": "360aac9d",
   "metadata": {},
   "source": [
    "## 📉 Step 2: Calculate Year-over-Year % Change"
   ]
  },
  {
   "cell_type": "code",
   "execution_count": null,
   "id": "d0e075ab",
   "metadata": {},
   "outputs": [],
   "source": [
    "def calculate_yoy_change(df):\n",
    "    df = df.copy()\n",
    "    df['YoY_Change'] = df.groupby('Category')['CPI'].pct_change(periods=12) * 100\n",
    "    return df"
   ]
  },
  {
   "cell_type": "markdown",
   "id": "80dbf412",
   "metadata": {},
   "source": [
    "## 🔁 Step 3: Add Rolling Averages (3-Month, 6-Month)"
   ]
  },
  {
   "cell_type": "code",
   "execution_count": null,
   "id": "00f6e11a",
   "metadata": {},
   "outputs": [],
   "source": [
    "def add_rolling_averages(df, windows=[3, 6]):\n",
    "    for window in windows:\n",
    "        df[f'RollingAvg_{window}'] = df.groupby('Category')['CPI'].transform(lambda x: x.rolling(window).mean())\n",
    "    return df"
   ]
  },
  {
   "cell_type": "markdown",
   "id": "0f9e70ad",
   "metadata": {},
   "source": [
    "## 📊 Step 4: Plot CPI Trend with Rolling Averages"
   ]
  },
  {
   "cell_type": "code",
   "execution_count": null,
   "id": "528f770c",
   "metadata": {},
   "outputs": [],
   "source": [
    "def plot_rolling_trend(df, category):\n",
    "    df_cat = df[df['Category'] == category]\n",
    "    plt.figure(figsize=(12, 6))\n",
    "    plt.plot(df_cat['Date'], df_cat['CPI'], label='CPI', alpha=0.5, linewidth=2)\n",
    "    plt.plot(df_cat['Date'], df_cat['RollingAvg_3'], label='3-Month Rolling Avg', linestyle='--')\n",
    "    plt.plot(df_cat['Date'], df_cat['RollingAvg_6'], label='6-Month Rolling Avg', linestyle='-.')\n",
    "    plt.title(f'CPI Trend for {category} in Virginia (with Rolling Averages)')\n",
    "    plt.xlabel('Date')\n",
    "    plt.ylabel('CPI Index')\n",
    "    plt.legend()\n",
    "    plt.grid(True)\n",
    "    plt.tight_layout()\n",
    "    plt.show()"
   ]
  },
  {
   "cell_type": "markdown",
   "id": "c3cc0b73",
   "metadata": {},
   "source": [
    "## 🚀 Step 5: Run the Pipeline"
   ]
  },
  {
   "cell_type": "code",
   "execution_count": null,
   "id": "3d5b74a4",
   "metadata": {},
   "outputs": [],
   "source": [
    "# Update with your actual file path\n",
    "file_path = 'virginia_cpi_tableau_ready.csv'\n",
    "\n",
    "df = load_data(file_path)\n",
    "df = calculate_yoy_change(df)\n",
    "df = add_rolling_averages(df)\n",
    "\n",
    "# Plot one example category (change this to explore others)\n",
    "plot_rolling_trend(df, 'Food')\n",
    "\n",
    "# Save the final DataFrame for Tableau\n",
    "df.to_csv('virginia_cpi_with_trends.csv', index=False)\n",
    "print(\"✅ Saved: virginia_cpi_with_trends.csv\")"
   ]
  }
 ],
 "metadata": {},
 "nbformat": 4,
 "nbformat_minor": 5
}
