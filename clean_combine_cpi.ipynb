{
 "cells": [
  {
   "cell_type": "markdown",
   "id": "4943db49",
   "metadata": {},
   "source": [
    "# 🧼 Clean & Combine CPI Data for Tableau\n",
    "**Goal**: Load multiple BLS CPI Excel files, clean them, reshape them, and combine into a single dataset ready for Tableau.\n",
    "\n",
    "Each sheet should come from BLS regional data for CPI categories like Food, Shelter, Energy, etc.\n",
    "This notebook also calculates Year-over-Year (YoY) percent changes."
   ]
  },
  {
   "cell_type": "code",
   "execution_count": 12,
   "id": "da539a78",
   "metadata": {},
   "outputs": [],
   "source": [
    "import pandas as pd\n",
    "from pathlib import Path\n",
    "import warnings\n",
    "warnings.filterwarnings(\"ignore\", category=UserWarning, module=\"openpyxl\")"
   ]
  },
  {
   "cell_type": "markdown",
   "id": "25c45b81",
   "metadata": {},
   "source": [
    "## 🔧 Function to Clean Individual Excel File"
   ]
  },
  {
   "cell_type": "code",
   "execution_count": 13,
   "id": "d6cdb3ff",
   "metadata": {},
   "outputs": [],
   "source": [
    "def load_and_clean_cpi_excel(file_path, category_name):\n",
    "    xls = pd.ExcelFile(file_path)\n",
    "    df_raw = xls.parse(xls.sheet_names[0], skiprows=11)\n",
    "\n",
    "    df_long = df_raw.melt(id_vars='Year', value_vars=['Jan', 'Feb', 'Mar', 'Apr', 'May', 'Jun',\n",
    "                                                      'Jul', 'Aug', 'Sep', 'Oct', 'Nov', 'Dec'],\n",
    "                          var_name='Month', value_name='CPI')\n",
    "    df_long = df_long.dropna(subset=['CPI'])\n",
    "\n",
    "    month_lookup = {'Jan': 1, 'Feb': 2, 'Mar': 3, 'Apr': 4, 'May': 5, 'Jun': 6,\n",
    "                    'Jul': 7, 'Aug': 8, 'Sep': 9, 'Oct': 10, 'Nov': 11, 'Dec': 12}\n",
    "    df_long['Month_Num'] = df_long['Month'].map(month_lookup)\n",
    "    df_long['Date'] = pd.to_datetime(dict(year=df_long['Year'], month=df_long['Month_Num'], day=1))\n",
    "    df_long['Category'] = category_name\n",
    "    return df_long[['Date', 'Category', 'CPI']].sort_values('Date')"
   ]
  },
  {
   "cell_type": "markdown",
   "id": "bb24d117",
   "metadata": {},
   "source": [
    "## 🧩 Function to Combine All Categories"
   ]
  },
  {
   "cell_type": "code",
   "execution_count": 14,
   "id": "8e2c304b",
   "metadata": {},
   "outputs": [],
   "source": [
    "def combine_categories(file_category_map):\n",
    "    combined_df = pd.DataFrame()\n",
    "    for file_path, category in file_category_map.items():\n",
    "        df = load_and_clean_cpi_excel(file_path, category)\n",
    "        combined_df = pd.concat([combined_df, df], ignore_index=True)\n",
    "    return combined_df"
   ]
  },
  {
   "cell_type": "markdown",
   "id": "f6509c71",
   "metadata": {},
   "source": [
    "## 📈 Function to Calculate YoY % Change"
   ]
  },
  {
   "cell_type": "code",
   "execution_count": 15,
   "id": "3a4ab8d8",
   "metadata": {},
   "outputs": [],
   "source": [
    "def calculate_yoy_change(df):\n",
    "    df = df.copy()\n",
    "    df['YoY_Change'] = df.groupby('Category')['CPI'].pct_change(periods=12) * 100\n",
    "    return df"
   ]
  },
  {
   "cell_type": "markdown",
   "id": "87fc5b8b",
   "metadata": {},
   "source": [
    "## 💾 Save Final Data for Tableau"
   ]
  },
  {
   "cell_type": "code",
   "execution_count": 16,
   "id": "1ebad43c",
   "metadata": {},
   "outputs": [],
   "source": [
    "def save_for_tableau(df, output_path):\n",
    "    df.to_csv(output_path, index=False)\n",
    "    print(f\"✅ Saved cleaned data to: {output_path}\")"
   ]
  },
  {
   "cell_type": "markdown",
   "id": "2a0055ae",
   "metadata": {},
   "source": [
    "## 🚀 Run All Functions to Generate Final Dataset"
   ]
  },
  {
   "cell_type": "code",
   "execution_count": 17,
   "id": "5f8f13fb",
   "metadata": {},
   "outputs": [
    {
     "name": "stdout",
     "output_type": "stream",
     "text": [
      "✅ Saved cleaned data to: virginia_cpi_tableau_ready.csv\n"
     ]
    }
   ],
   "source": [
    "# Replace with your actual file paths\n",
    "file_category_map = {\n",
    "    'data/food.xlsx': 'Food',\n",
    "    'data/energy.xlsx': 'Energy',\n",
    "    'data/shelter.xlsx': 'Shelter',\n",
    "    'data/transportation.xlsx': 'Transportation',\n",
    "    'data/all_items.xlsx': 'All_Items'\n",
    "}\n",
    "\n",
    "df_combined = combine_categories(file_category_map)\n",
    "df_final = calculate_yoy_change(df_combined)\n",
    "save_for_tableau(df_final, 'virginia_cpi_tableau_ready.csv')"
   ]
  },
  {
   "cell_type": "code",
   "execution_count": 10,
   "id": "a64b53d1-45c5-405b-a2a7-33ebb1bdd00e",
   "metadata": {},
   "outputs": [
    {
     "name": "stdout",
     "output_type": "stream",
     "text": [
      "All_Items.xlsx      Energy.xlsx         Houseing.xlsx       Transportation.xlsx\n",
      "energy_old.xlsx     Food.xlsx           Shelter.xlsx\n"
     ]
    }
   ],
   "source": [
    "!ls data/"
   ]
  },
  {
   "cell_type": "code",
   "execution_count": 9,
   "id": "944ad975-def6-41fd-b7a5-729c775621ba",
   "metadata": {},
   "outputs": [
    {
     "data": {
      "text/plain": [
       "'/Users/aravindanisetti/Desktop/2025 Training/Data Roadmap'"
      ]
     },
     "execution_count": 9,
     "metadata": {},
     "output_type": "execute_result"
    }
   ],
   "source": [
    "pwd"
   ]
  },
  {
   "cell_type": "code",
   "execution_count": null,
   "id": "ccde8b52-e1b0-4f60-830f-7e585d1d242b",
   "metadata": {},
   "outputs": [],
   "source": []
  }
 ],
 "metadata": {
  "kernelspec": {
   "display_name": "Python 3 (ipykernel)",
   "language": "python",
   "name": "python3"
  },
  "language_info": {
   "codemirror_mode": {
    "name": "ipython",
    "version": 3
   },
   "file_extension": ".py",
   "mimetype": "text/x-python",
   "name": "python",
   "nbconvert_exporter": "python",
   "pygments_lexer": "ipython3",
   "version": "3.12.7"
  }
 },
 "nbformat": 4,
 "nbformat_minor": 5
}
